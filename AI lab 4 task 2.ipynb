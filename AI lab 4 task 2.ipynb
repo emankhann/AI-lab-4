{
 "cells": [
  {
   "cell_type": "code",
   "execution_count": 3,
   "id": "e0d3ea60-18bb-4752-a8a0-cbc7f9ea03a4",
   "metadata": {},
   "outputs": [
    {
     "name": "stdout",
     "output_type": "stream",
     "text": [
      "Probability of buying a computer: 1.00\n",
      "Probability of not buying a computer: 0.00\n",
      "\n",
      "Prediction: The person will buy a computer.\n"
     ]
    }
   ],
   "source": [
    "import pandas as pd\n",
    "\n",
    "data = {\n",
    "    \"age\": [\"youth\", \"youth\", \"middle_aged\", \"senior\", \"senior\", \"senior\", \"middle_aged\", \"youth\", \"youth\", \"senior\", \n",
    "            \"youth\", \"middle_aged\", \"middle_aged\", \"senior\"],\n",
    "    \"income\": [\"high\", \"high\", \"high\", \"medium\", \"low\", \"low\", \"low\", \"medium\", \"low\", \"medium\", \n",
    "               \"medium\", \"medium\", \"high\", \"medium\"],\n",
    "    \"student\": [\"no\", \"no\", \"no\", \"no\", \"yes\", \"yes\", \"no\", \"no\", \"yes\", \"yes\", \n",
    "                \"yes\", \"yes\", \"no\", \"no\"],\n",
    "    \"credit_rating\": [\"fair\", \"excellent\", \"fair\", \"fair\", \"fair\", \"excellent\", \"excellent\", \"fair\", \"fair\", \"fair\", \n",
    "                      \"excellent\", \"excellent\", \"fair\", \"excellent\"],\n",
    "    \"buys_computer\": [\"no\", \"no\", \"yes\", \"yes\", \"yes\", \"no\", \"yes\", \"no\", \"yes\", \"yes\", \n",
    "                      \"yes\", \"yes\", \"yes\", \"no\"]\n",
    "}\n",
    "\n",
    "df = pd.DataFrame(data)\n",
    "\n",
    "def calculate_priors(df):\n",
    "    \"\"\"Calculate prior probabilities for buys_computer.\"\"\"\n",
    "    total_count = len(df)\n",
    "    p_yes = len(df[df[\"buys_computer\"] == \"yes\"]) / total_count\n",
    "    p_no = len(df[df[\"buys_computer\"] == \"no\"]) / total_count\n",
    "    return p_yes, p_no\n",
    "\n",
    "def likelihood(feature, value, outcome):\n",
    "    \"\"\"Calculate likelihood of a feature given an outcome.\"\"\"\n",
    "    outcome_count = len(df[df[\"buys_computer\"] == outcome])\n",
    "    if outcome_count == 0:\n",
    "        return 0  # Prevent division by zero\n",
    "    return len(df[(df[feature] == value) & (df[\"buys_computer\"] == outcome)]) / outcome_count\n",
    "\n",
    "def calculate_posteriors(conditions, p_yes, p_no):\n",
    "    \"\"\"Calculate posterior probabilities for the given conditions.\"\"\"\n",
    "    p_yes_given_conditions = p_yes\n",
    "    p_no_given_conditions = p_no\n",
    "\n",
    "    for feature, value in conditions.items():\n",
    "        p_yes_given_conditions *= likelihood(feature, value, \"yes\")\n",
    "        p_no_given_conditions *= likelihood(feature, value, \"no\")\n",
    "\n",
    "    return p_yes_given_conditions, p_no_given_conditions\n",
    "\n",
    "def predict_buys_computer(conditions):\n",
    "    \"\"\"Predict if a person will buy a computer based on conditions.\"\"\"\n",
    "    p_yes, p_no = calculate_priors(df)\n",
    "    \n",
    "    p_yes_given_conditions, p_no_gven_conditions = calculate_posteriors(conditions, p_yes, p_no)\n",
    "\n",
    "    total = p_yes_given_conditions + p_no_given_conditions\n",
    "    p_yes_final = p_yes_given_conditions / total if total > 0 else 0\n",
    "    p_no_final = p_no_given_conditions / total if total > 0 else 0\n",
    "\n",
    "    return p_yes_final, p_no_final\n",
    "\n",
    "conditions = {\n",
    "    \"age\": \"youth\",\n",
    "    \"income\": \"medium\",\n",
    "    \"student\": \"yes\",\n",
    "    \"credit_rating\": \"fair\"\n",
    "}\n",
    "\n",
    "p_yes_final, p_no_final = predict_buys_computer(conditions)\n",
    "\n",
    "print(f\"Probability of buying a computer: {p_yes_final:.2f}\")\n",
    "print(f\"Probability of not buying a computer: {p_no_final:.2f}\\n\")\n",
    "\n",
    "if p_yes_final > p_no_final:\n",
    "    print(\"Prediction: The person will buy a computer.\")\n",
    "else:\n",
    "    print(\"Prediction: The person will not buy a computer.\")"
   ]
  },
  {
   "cell_type": "code",
   "execution_count": null,
   "id": "cc91fd96-e1d1-47b2-8a6b-ffdac2e81af3",
   "metadata": {},
   "outputs": [],
   "source": []
  }
 ],
 "metadata": {
  "kernelspec": {
   "display_name": "Python 3 (ipykernel)",
   "language": "python",
   "name": "python3"
  },
  "language_info": {
   "codemirror_mode": {
    "name": "ipython",
    "version": 3
   },
   "file_extension": ".py",
   "mimetype": "text/x-python",
   "name": "python",
   "nbconvert_exporter": "python",
   "pygments_lexer": "ipython3",
   "version": "3.12.7"
  }
 },
 "nbformat": 4,
 "nbformat_minor": 5
}
