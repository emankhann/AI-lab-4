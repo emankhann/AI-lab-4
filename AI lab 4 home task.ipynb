{
 "cells": [
  {
   "cell_type": "code",
   "execution_count": 11,
   "id": "e0d3ea60-18bb-4752-a8a0-cbc7f9ea03a4",
   "metadata": {},
   "outputs": [
    {
     "name": "stdout",
     "output_type": "stream",
     "text": [
      "Probability of replacing the appliance: 1.00\n",
      "Probability of not replacing the appliance: 0.00\n",
      "Prediction: The appliance will be replaced.\n"
     ]
    }
   ],
   "source": [
    "import pandas as pd\n",
    "from sklearn.model_selection import train_test_split\n",
    "from sklearn.naive_bayes import GaussianNB\n",
    "\n",
    "data = {\n",
    "    'Appliances': [\n",
    "        'Refrigerator', 'Washing Machine', 'Air Conditioner', 'Washing Machine', \n",
    "        'Air Conditioner', 'Refrigerator', 'Air Conditioner', 'Refrigerator', \n",
    "        'Washing Machine', 'Air Conditioner'\n",
    "    ],\n",
    "    'Energy Consumption': [\n",
    "        'High', 'Medium', 'High', 'Low', 'Medium', 'Low', 'High', 'Medium', 'High', 'Low'\n",
    "    ],\n",
    "    'Replace?': ['No', 'Yes', 'Yes', 'Yes', 'Yes', 'No', 'Yes', 'No', 'Yes', 'Yes']\n",
    "}\n",
    "\n",
    "df = pd.DataFrame(data)\n",
    "\n",
    "df['Appliances'] = df['Appliances'].map({\n",
    "    'Refrigerator': 0, 'Washing Machine': 1, 'Air Conditioner': 2\n",
    "})\n",
    "df['Energy Consumption'] = df['Energy Consumption'].map({\n",
    "    'Low': 0, 'Medium': 1, 'High': 2\n",
    "})\n",
    "df['Replace?'] = df['Replace?'].map({'No': 0, 'Yes': 1})\n",
    "\n",
    "X = df[['Appliances', 'Energy Consumption']]\n",
    "y = df['Replace?']\n",
    "\n",
    "X_train, X_test, y_train, y_test = train_test_split(X, y, test_size=0.3, random_state=42)\n",
    "\n",
    "model = GaussianNB()\n",
    "model.fit(X_train, y_train)\n",
    "\n",
    "new_data = pd.DataFrame([[2, 2]], columns=['Appliances', 'Energy Consumption'])\n",
    "\n",
    "probs = model.predict_proba(new_data)[0]\n",
    "prediction = model.predict(new_data)[0]\n",
    "\n",
    "print(f\"Probability of replacing the appliance: {probs[1]:.2f}\")\n",
    "print(f\"Probability of not replacing the appliance: {probs[0]:.2f}\")\n",
    "print(f\"Prediction: The appliance will {'be replaced' if prediction == 1 else 'not be replaced'}.\")\n"
   ]
  },
  {
   "cell_type": "code",
   "execution_count": null,
   "id": "cc91fd96-e1d1-47b2-8a6b-ffdac2e81af3",
   "metadata": {},
   "outputs": [],
   "source": []
  }
 ],
 "metadata": {
  "kernelspec": {
   "display_name": "Python 3 (ipykernel)",
   "language": "python",
   "name": "python3"
  },
  "language_info": {
   "codemirror_mode": {
    "name": "ipython",
    "version": 3
   },
   "file_extension": ".py",
   "mimetype": "text/x-python",
   "name": "python",
   "nbconvert_exporter": "python",
   "pygments_lexer": "ipython3",
   "version": "3.12.7"
  }
 },
 "nbformat": 4,
 "nbformat_minor": 5
}
